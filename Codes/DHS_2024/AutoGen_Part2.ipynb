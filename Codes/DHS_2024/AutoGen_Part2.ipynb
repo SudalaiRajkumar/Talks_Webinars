{
 "cells": [
  {
   "cell_type": "markdown",
   "id": "7ce680cd-4009-4085-bf11-4bcdce152ad9",
   "metadata": {},
   "source": [
    "## AutoGen\n",
    "\n",
    "![Agent](https://microsoft.github.io/autogen/assets/images/autogen_agents-b80434bcb15d46da0c6cbeed28115f38.png)\n",
    "\n",
    "### Code Execution Systems\n",
    "\n",
    "We will explore the flow of a code execution using agents"
   ]
  },
  {
   "cell_type": "code",
   "execution_count": 1,
   "id": "ec945ae0-d3b3-4d13-a53f-deb87e5883f3",
   "metadata": {},
   "outputs": [
    {
     "data": {
      "text/plain": [
       "True"
      ]
     },
     "execution_count": 1,
     "metadata": {},
     "output_type": "execute_result"
    }
   ],
   "source": [
    "import os\n",
    "from autogen import ConversableAgent, AssistantAgent\n",
    "from autogen.coding import LocalCommandLineCodeExecutor\n",
    "\n",
    "from dotenv import load_dotenv\n",
    "\n",
    "load_dotenv()"
   ]
  },
  {
   "cell_type": "code",
   "execution_count": 2,
   "id": "538df936-a233-40d4-b5b4-a9d91af821a7",
   "metadata": {},
   "outputs": [],
   "source": [
    "llm_config = {\n",
    "    \"config_list\": [{\"model\": \"gpt-4o-mini\", \"api_key\": os.environ[\"OPENAI_API_KEY\"]}]\n",
    "}"
   ]
  },
  {
   "cell_type": "code",
   "execution_count": 3,
   "id": "5c003ccc-4807-4a9c-b027-53ad6f491cdb",
   "metadata": {},
   "outputs": [],
   "source": [
    "executor = LocalCommandLineCodeExecutor(\n",
    "    timeout=60,\n",
    "    work_dir=\"coding_autogen\",\n",
    ")\n",
    "\n",
    "# # Create a Docker command line code executor.\n",
    "# executor = DockerCommandLineCodeExecutor(\n",
    "#     image=\"python:3.12-slim\",  # Execute code using the given docker image name.\n",
    "#     timeout=60,  # Timeout for each code execution in seconds.\n",
    "#     work_dir=work_dir,\n",
    "# )\n",
    "\n",
    "code_executor_agent = ConversableAgent(\n",
    "    name=\"code_executor_agent\",\n",
    "    llm_config=False,\n",
    "    code_execution_config={\"executor\": executor},\n",
    "    human_input_mode=\"ALWAYS\",\n",
    "    default_auto_reply=\n",
    "    \"Please continue. If everything is done, reply 'TERMINATE'.\",\n",
    ")"
   ]
  },
  {
   "cell_type": "code",
   "execution_count": 4,
   "id": "5e571640-7be0-4717-8567-54d60d09a60e",
   "metadata": {},
   "outputs": [],
   "source": [
    "code_writer_agent = AssistantAgent(\n",
    "    name=\"code_writer_agent\",\n",
    "    llm_config=llm_config,\n",
    "    code_execution_config=False,\n",
    "    human_input_mode=\"NEVER\",\n",
    ")"
   ]
  },
  {
   "cell_type": "code",
   "execution_count": 5,
   "id": "88c00971-874e-4569-b6c6-a94cbee66268",
   "metadata": {},
   "outputs": [],
   "source": [
    "import datetime\n",
    "\n",
    "today = datetime.datetime.now().date()\n",
    "message = f\"Today is {today}. \"\\\n",
    "\"Create a plot showing stock gain YTD for NVDA.\""
   ]
  },
  {
   "cell_type": "code",
   "execution_count": 6,
   "id": "f80eef6f-b03e-4f57-bac3-83ecb62dcf3f",
   "metadata": {},
   "outputs": [
    {
     "name": "stdout",
     "output_type": "stream",
     "text": [
      "\u001b[33mcode_executor_agent\u001b[0m (to code_writer_agent):\n",
      "\n",
      "Today is 2024-08-11. Create a plot showing stock gain YTD for NVDA.\n",
      "\n",
      "--------------------------------------------------------------------------------\n",
      "\u001b[33mcode_writer_agent\u001b[0m (to code_executor_agent):\n",
      "\n",
      "To create a plot showing the Year-To-Date (YTD) stock gain for NVIDIA Corporation (NVDA), we will follow these steps:\n",
      "\n",
      "1. Gather historical stock price data for NVDA. Specifically, we will need to find the closing price at the beginning of this year (2024-01-01) and the latest price as of today (2024-08-11).\n",
      "2. Calculate the YTD gain percentage based on these closing prices.\n",
      "3. Create a plot displaying the YTD gain.\n",
      "\n",
      "I'll write a Python script that handles these tasks using the `yfinance` library to obtain stock data and `matplotlib` to create the plot.\n",
      "\n",
      "Let's execute the code to plot the YTD stock gain for NVDA.\n",
      "\n",
      "```python\n",
      "# filename: plot_nvda_ytd_gain.py\n",
      "import yfinance as yf\n",
      "import matplotlib.pyplot as plt\n",
      "from datetime import datetime\n",
      "\n",
      "# Step 1: Download NVDA stock data\n",
      "ticker = 'NVDA'\n",
      "start_date = '2024-01-01'\n",
      "end_date = datetime.now().strftime('%Y-%m-%d')\n",
      "\n",
      "# Fetch the data\n",
      "nvda_data = yf.download(ticker, start=start_date, end=end_date)\n",
      "\n",
      "# Step 2: Calculate YTD gain\n",
      "nvda_start_price = nvda_data['Close'].iloc[0]  # Closing price on 2024-01-01\n",
      "nvda_latest_price = nvda_data['Close'].iloc[-1]  # Latest closing price\n",
      "\n",
      "# Calculate YTD Gain percentage\n",
      "ytd_gain = ((nvda_latest_price - nvda_start_price) / nvda_start_price) * 100\n",
      "\n",
      "# Step 3: Plotting\n",
      "plt.figure(figsize=(10, 5))\n",
      "plt.plot(nvda_data.index, nvda_data['Close'], label='NVDA Closing Price', color='blue')\n",
      "plt.axhline(y=nvda_start_price, color='red', linestyle='--', label=f'Start Price on 2024-01-01: ${nvda_start_price:.2f}')\n",
      "plt.title(f'NVDA YTD Gain: {ytd_gain:.2f}%')\n",
      "plt.xlabel('Date')\n",
      "plt.ylabel('Price (USD)')\n",
      "plt.legend()\n",
      "plt.grid()\n",
      "plt.tight_layout()\n",
      "\n",
      "# Save plot as an image\n",
      "plt.savefig('nvda_ytd_gain_plot.png')\n",
      "plt.show()\n",
      "```\n",
      "\n",
      "After running this code, verify that the plot image is saved successfully as `nvda_ytd_gain_plot.png`. \n",
      "\n",
      "Please execute this code in your Python environment.\n",
      "\n",
      "--------------------------------------------------------------------------------\n"
     ]
    },
    {
     "name": "stdin",
     "output_type": "stream",
     "text": [
      "Replying as code_executor_agent. Provide feedback to code_writer_agent. Press enter to skip and use auto-reply, or type 'exit' to end the conversation:  \n"
     ]
    },
    {
     "name": "stdout",
     "output_type": "stream",
     "text": [
      "\u001b[31m\n",
      ">>>>>>>> NO HUMAN INPUT RECEIVED.\u001b[0m\n",
      "\u001b[31m\n",
      ">>>>>>>> USING AUTO REPLY...\u001b[0m\n",
      "\u001b[31m\n",
      ">>>>>>>> EXECUTING CODE BLOCK (inferred language is python)...\u001b[0m\n",
      "\u001b[33mcode_executor_agent\u001b[0m (to code_writer_agent):\n",
      "\n",
      "exitcode: 0 (execution succeeded)\n",
      "Code output: \n",
      "[*********************100%%**********************]  1 of 1 completed\n",
      "Figure(1000x500)\n",
      "\n",
      "\n",
      "--------------------------------------------------------------------------------\n",
      "\u001b[33mcode_writer_agent\u001b[0m (to code_executor_agent):\n",
      "\n",
      "The code executed successfully and gathered the necessary stock data for NVDA. It also created a plot showing the YTD gain of NVDA stock, as per the specifications.\n",
      "\n",
      "The plot should now be saved as `nvda_ytd_gain_plot.png` in your working directory. You can check the image to analyze the YTD performance of NVIDIA Corporation's stock.\n",
      "\n",
      "If you need any further assistance or additional analysis, let me know!\n",
      "\n",
      "TERMINATE\n",
      "\n",
      "--------------------------------------------------------------------------------\n"
     ]
    },
    {
     "name": "stdin",
     "output_type": "stream",
     "text": [
      "Replying as code_executor_agent. Provide feedback to code_writer_agent. Press enter to skip and use auto-reply, or type 'exit' to end the conversation:  \n"
     ]
    },
    {
     "name": "stdout",
     "output_type": "stream",
     "text": [
      "\u001b[31m\n",
      ">>>>>>>> NO HUMAN INPUT RECEIVED.\u001b[0m\n",
      "\u001b[31m\n",
      ">>>>>>>> USING AUTO REPLY...\u001b[0m\n",
      "\u001b[33mcode_executor_agent\u001b[0m (to code_writer_agent):\n",
      "\n",
      "Please continue. If everything is done, reply 'TERMINATE'.\n",
      "\n",
      "--------------------------------------------------------------------------------\n",
      "\u001b[33mcode_writer_agent\u001b[0m (to code_executor_agent):\n",
      "\n",
      "Everything is done. The plot showing the YTD gain for NVDA has been created and saved successfully. \n",
      "\n",
      "If you have any further questions or need assistance with anything else, feel free to ask!\n",
      "\n",
      "TERMINATE\n",
      "\n",
      "--------------------------------------------------------------------------------\n"
     ]
    },
    {
     "name": "stdin",
     "output_type": "stream",
     "text": [
      "Replying as code_executor_agent. Provide feedback to code_writer_agent. Press enter to skip and use auto-reply, or type 'exit' to end the conversation:  exit\n"
     ]
    }
   ],
   "source": [
    "chat_result = code_executor_agent.initiate_chat(\n",
    "    code_writer_agent,\n",
    "    message=message,\n",
    ")"
   ]
  },
  {
   "cell_type": "code",
   "execution_count": null,
   "id": "e3b7bd8a-f0c3-4653-8242-3b32ea01eddb",
   "metadata": {},
   "outputs": [],
   "source": []
  }
 ],
 "metadata": {
  "kernelspec": {
   "display_name": "Python 3 (ipykernel)",
   "language": "python",
   "name": "python3"
  },
  "language_info": {
   "codemirror_mode": {
    "name": "ipython",
    "version": 3
   },
   "file_extension": ".py",
   "mimetype": "text/x-python",
   "name": "python",
   "nbconvert_exporter": "python",
   "pygments_lexer": "ipython3",
   "version": "3.10.12"
  }
 },
 "nbformat": 4,
 "nbformat_minor": 5
}
