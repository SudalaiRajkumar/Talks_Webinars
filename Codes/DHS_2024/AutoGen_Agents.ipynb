{
 "cells": [
  {
   "cell_type": "markdown",
   "id": "5421ef98-5ba6-4810-9417-8bae613c0ef3",
   "metadata": {},
   "source": [
    "## AutoGen\n",
    "\n",
    "AutoGen is an open-source programming framework for building AI agents and facilitating cooperation among multiple agents to solve tasks. \n",
    "\n",
    "In AutoGen, an agent is an entity that can send messages, receive messages and generate a reply using models, tools, human inputs or a mixture of them.\n",
    "\n",
    "![Agent](https://microsoft.github.io/autogen/assets/images/autogen_agents-b80434bcb15d46da0c6cbeed28115f38.png)"
   ]
  },
  {
   "cell_type": "markdown",
   "id": "de7893ae-eb97-46c7-bfbf-dd065af13c67",
   "metadata": {},
   "source": [
    "### Company Information Search Application\n",
    "\n",
    "In this example, let us use an AutoGen agent system to get information for a given company. It involves two steps.\n",
    "\n",
    "- Given the name of the company, search the internet and get the URL of the company.\n",
    "- Extract the content of the URL and then summarize the content about the company."
   ]
  },
  {
   "cell_type": "code",
   "execution_count": 1,
   "id": "f0934ac0-60c8-45d7-87d7-046bd7a1f25f",
   "metadata": {},
   "outputs": [
    {
     "data": {
      "text/plain": [
       "True"
      ]
     },
     "execution_count": 1,
     "metadata": {},
     "output_type": "execute_result"
    }
   ],
   "source": [
    "import os\n",
    "import requests\n",
    "from bs4 import BeautifulSoup\n",
    "from typing import Annotated, Literal\n",
    "from duckduckgo_search import DDGS\n",
    "from autogen import ConversableAgent\n",
    "\n",
    "from dotenv import load_dotenv\n",
    "\n",
    "load_dotenv()"
   ]
  },
  {
   "cell_type": "code",
   "execution_count": 2,
   "id": "4dab298d-41a0-4a3d-944c-4362e51a8a9a",
   "metadata": {},
   "outputs": [],
   "source": [
    "# Setting up the LLM config\n",
    "llm_config = {\n",
    "    \"config_list\": [{\"model\": \"gpt-3.5-turbo\", \"api_key\": os.environ[\"OPENAI_API_KEY\"]}]\n",
    "}"
   ]
  },
  {
   "cell_type": "markdown",
   "id": "ec5d4311-fb54-4971-bbc0-1dbc5d80cc7e",
   "metadata": {},
   "source": [
    "First let us create an agent that has a tool to search the internet and gets the URL of the company."
   ]
  },
  {
   "cell_type": "code",
   "execution_count": 3,
   "id": "e6f51d72-410d-4fa1-bf42-9bb1657b5b35",
   "metadata": {},
   "outputs": [],
   "source": [
    "url_assistant = ConversableAgent(\n",
    "    name=\"URL Assistant\",\n",
    "    system_message=\"You are a URL fetcher assistant. \"\n",
    "    \"You can help with retrieving the website url of the given company name using search. \"\n",
    "    \"Give the company website base url in json format - {url: <url>}. \"\n",
    "    \"Add 'TERMINATE' when the task is done.\",\n",
    "    llm_config=llm_config,\n",
    "    human_input_mode=\"NEVER\",\n",
    ")"
   ]
  },
  {
   "cell_type": "code",
   "execution_count": 4,
   "id": "b39d60ca-ab53-4b61-b1a2-2bc75cd93730",
   "metadata": {},
   "outputs": [],
   "source": [
    "# A tool to help get the information of the company using duckduckgo search\n",
    "def company_search(company_name: str) -> str:\n",
    "    results = DDGS().text(f\"Website of {company_name}\", max_results=5)\n",
    "    return str(results)"
   ]
  },
  {
   "cell_type": "markdown",
   "id": "38767eab-0086-44aa-9468-cb7cee6a534a",
   "metadata": {},
   "source": [
    "Now let us create another agent that summarizes the website content"
   ]
  },
  {
   "cell_type": "code",
   "execution_count": 5,
   "id": "893b8773-8d9b-4320-a991-da219731c58a",
   "metadata": {},
   "outputs": [],
   "source": [
    "summary_assistant = ConversableAgent(\n",
    "    name=\"Summary Assistant\",\n",
    "    system_message=\"You are a Summary assistant. \"\n",
    "    \"You help with getting the content from the website and summarizing it. \"\n",
    "    \"Get the web page text and summarize it in one paragraph. \"\n",
    "    \"Add 'TERMINATE' when the task is done.\",\n",
    "    llm_config=llm_config,\n",
    "    human_input_mode=\"NEVER\",\n",
    ")"
   ]
  },
  {
   "cell_type": "code",
   "execution_count": 6,
   "id": "10569d24-9288-41c2-9ccb-39ad9b70dd3a",
   "metadata": {},
   "outputs": [],
   "source": [
    "# Tool to extract the content of the webpage\n",
    "def get_webpage_text(url: str) -> str:\n",
    "    try:\n",
    "        # Fetch the content of the webpage\n",
    "        response = requests.get(url)\n",
    "        response.raise_for_status()  # Check if the request was successful\n",
    "        \n",
    "        # Parse the HTML content using BeautifulSoup\n",
    "        soup = BeautifulSoup(response.content, 'html.parser')\n",
    "        \n",
    "        # Get the text from the parsed HTML\n",
    "        text = soup.get_text(separator=' ', strip=True)\n",
    "        \n",
    "        return text\n",
    "    except requests.exceptions.RequestException as e:\n",
    "        print(f\"Error fetching the webpage: {e}\")\n",
    "        return None"
   ]
  },
  {
   "cell_type": "markdown",
   "id": "403ae21a-05a2-440e-a56d-08021b353e61",
   "metadata": {},
   "source": [
    "We will also have a flow agent that just manages the flow and executes the tool"
   ]
  },
  {
   "cell_type": "code",
   "execution_count": 7,
   "id": "3b7b5a4a-4a0b-4262-96de-becad37d8732",
   "metadata": {},
   "outputs": [],
   "source": [
    "flow_agent = ConversableAgent(\n",
    "    name=\"Flow Agent\",\n",
    "    system_message=\"You give me the text that I give you.\",\n",
    "    llm_config=llm_config,\n",
    "    human_input_mode=\"NEVER\",\n",
    ")"
   ]
  },
  {
   "cell_type": "markdown",
   "id": "a5cb13c8-4bec-4b69-b252-dc5e4cc6efa5",
   "metadata": {},
   "source": [
    "Now let us register the tool (functions) that we created to the corresponding assistant."
   ]
  },
  {
   "cell_type": "code",
   "execution_count": 8,
   "id": "6d097f98-1d59-45f4-bf95-8085dffdd8c5",
   "metadata": {},
   "outputs": [],
   "source": [
    "from autogen import register_function\n",
    "\n",
    "register_function(\n",
    "    company_search,\n",
    "    caller=url_assistant,\n",
    "    executor=flow_agent,\n",
    "    name=\"company_search\",\n",
    "    description=\"Searches information about the given company\",\n",
    ")\n",
    "\n",
    "# Register the function to the agent.\n",
    "register_function(\n",
    "    get_webpage_text,\n",
    "    caller=summary_assistant, \n",
    "    executor=flow_agent, \n",
    "    name=\"get_webpage_text\", \n",
    "    description=\"Extracts the content of the given web page url\",  # A description of the tool.\n",
    ")"
   ]
  },
  {
   "cell_type": "code",
   "execution_count": 9,
   "id": "490f5145-cabc-479d-a4ec-20d0858b8dfe",
   "metadata": {},
   "outputs": [
    {
     "name": "stdout",
     "output_type": "stream",
     "text": [
      "\u001b[34m\n",
      "********************************************************************************\u001b[0m\n",
      "\u001b[34mStarting a new chat....\u001b[0m\n",
      "\u001b[34m\n",
      "********************************************************************************\u001b[0m\n",
      "\u001b[33mFlow Agent\u001b[0m (to URL Assistant):\n",
      "\n",
      "Deeplearning AI\n",
      "\n",
      "--------------------------------------------------------------------------------\n",
      "\u001b[33mURL Assistant\u001b[0m (to Flow Agent):\n",
      "\n",
      "\u001b[32m***** Suggested tool call (call_wEqcgPFe64vepkHOaXIMgoVq): company_search *****\u001b[0m\n",
      "Arguments: \n",
      "{\"company_name\":\"Deeplearning AI\"}\n",
      "\u001b[32m*******************************************************************************\u001b[0m\n",
      "\n",
      "--------------------------------------------------------------------------------\n",
      "\u001b[35m\n",
      ">>>>>>>> EXECUTING FUNCTION company_search...\u001b[0m\n",
      "\u001b[33mFlow Agent\u001b[0m (to URL Assistant):\n",
      "\n",
      "\u001b[33mFlow Agent\u001b[0m (to URL Assistant):\n",
      "\n",
      "\u001b[32m***** Response from calling tool (call_wEqcgPFe64vepkHOaXIMgoVq) *****\u001b[0m\n",
      "[{'title': 'DeepLearning.AI: Start or Advance Your Career in AI', 'href': 'https://www.deeplearning.ai/', 'body': 'Llama 3.1 is State-of-the-Art and Open, Web Data Goes Dark, OpenAI Takes on Google and Bing, Synthetic Data Improves. The Batch AI News and Insights: Last week, I wrote about why working on a concrete startup or project idea — meaning a specific product envisioned in enough detail that we can build it for a specific target user — lets you ...'}, {'title': 'Courses - DeepLearning.AI', 'href': 'https://www.deeplearning.ai/courses/', 'body': \"Enroll in 'AI Python for Beginners' by DeepLearning.AI and learn Python programming with AI assistance. Gain skills writing, testing, and debugging code efficiently, and create real-world AI applications. DeepLearning.AI. Course.\"}, {'title': 'About - DeepLearning.AI', 'href': 'https://www.deeplearning.ai/about/', 'body': 'DeepLearning.AI was founded in 2017 by machine learning and education pioneer Andrew Ng to fill a need for world-class AI education. DeepLearning.AI has created high-quality AI programs on Coursera that have gained an extensive global following. By providing a platform for education and fostering a tight-knit community, DeepLearning.AI has ...'}, {'title': 'DeepLearning.AI - Learning Platform', 'href': 'https://learn.deeplearning.ai/', 'body': 'DeepLearning.AI Short Courses. Course Available. AI Python for Beginners: Basics of AI Python Coding. ChatGPT Prompt Engineering for Developers. Learn the fundamentals of prompt engineering for ChatGPT. Learn effective prompting, and how to use LLMs for summarizing, inferring, transforming, and expanding.'}, {'title': 'DeepLearning.AI', 'href': 'https://community.deeplearning.ai/', 'body': 'Stay up-to-date with DeepLearning.AI news and announcements. 91. AI Discussions. A dedicated forum space to engage in conversations about Artificial Intelligence. 2637. Course Q&A. Ask questions related to DeepLearning.AI courses.'}]\n",
      "\u001b[32m**********************************************************************\u001b[0m\n",
      "\n",
      "--------------------------------------------------------------------------------\n",
      "\u001b[33mURL Assistant\u001b[0m (to Flow Agent):\n",
      "\n",
      "{url: \"https://www.deeplearning.ai/\"}\n",
      "\n",
      "--------------------------------------------------------------------------------\n",
      "\u001b[34m\n",
      "********************************************************************************\u001b[0m\n",
      "\u001b[34mStarting a new chat....\u001b[0m\n",
      "\u001b[34m\n",
      "********************************************************************************\u001b[0m\n",
      "\u001b[33mFlow Agent\u001b[0m (to Summary Assistant):\n",
      "\n",
      "\n",
      "Context: \n",
      "{url: \"https://www.deeplearning.ai/\"}\n",
      "\n",
      "--------------------------------------------------------------------------------\n",
      "\u001b[33mSummary Assistant\u001b[0m (to Flow Agent):\n",
      "\n",
      "\u001b[32m***** Suggested tool call (call_gSJ3bhTQzqomQb8NOZeWG0tp): get_webpage_text *****\u001b[0m\n",
      "Arguments: \n",
      "{\"url\":\"https://www.deeplearning.ai/\"}\n",
      "\u001b[32m*********************************************************************************\u001b[0m\n",
      "\n",
      "--------------------------------------------------------------------------------\n",
      "\u001b[35m\n",
      ">>>>>>>> EXECUTING FUNCTION get_webpage_text...\u001b[0m\n",
      "\u001b[33mFlow Agent\u001b[0m (to Summary Assistant):\n",
      "\n",
      "\u001b[33mFlow Agent\u001b[0m (to Summary Assistant):\n",
      "\n",
      "\u001b[32m***** Response from calling tool (call_gSJ3bhTQzqomQb8NOZeWG0tp) *****\u001b[0m\n",
      "DeepLearning.AI: Start or Advance Your Career in AI 🌟 New Course from Andrew Ng! Enroll in AI Python for Beginners Explore Courses AI Newsletter The Batch Andrew's Letter Data Points ML Research Blog Community Forum Events Ambassadors Ambassador Spotlight Resources Company About Careers Contact Start Learning AI is the new electricity. You are the spark. Get the latest AI news, courses, events, and insights from Andrew Ng and other AI leaders. Subscribe First Name Last Name Where do you live? Select a country What is your job title? Please select Keep me updated on the latest news, events, and courses Subscribe Join over 7 million people learning how to use and build AI AI Courses and Specializations Build a foundation of machine learning and AI skills, and understand how to apply them in the real world. prev next In Collaboration With prev next The largest weekly AI newsletter What matters in AI right now Aug 7, 2024 Google Gets Character.AI Co-Founders, Ukraine's Aquatic Drones, AI Recruiting Tools Fuel Arms Race, ASCII Art Defeats LLM Guardrails The Batch AI News & Insights: I’m delighted to announce AI Python for Beginners, a sequence of free short courses that teach anyone to code, regardless of background. Jul 31, 2024 Llama 3.1 is State-of-the-Art and Open, Web Data Goes Dark, OpenAI Takes on Google and Bing, Synthetic Data Improves The Batch AI News and Insights: Last week, I wrote about why working on a concrete startup or project idea — meaning a specific product envisioned in enough detail that we can build it for a specific target user — lets you go faster. Jul 24, 2024 OpenAI Shrinks GPT-4o, Meta Withholds Models From Europe, Investors Hoard GPUs, Synthetic Talking Heads Get Expressive The Batch AI News and Insights: AI’s usefulness in a wide variety of applications creates many opportunities for entrepreneurship. Read more Free Resources Get Started with AI and Machine Learning How to Build Your Career in AI A practical roadmap to building your career in AI from AI pioneer Andrew Ng Download Machine Learning Yearning An introductory book about developing ML algorithms. Download A Complete Guide to Natural Language Processing A comprehensive guide covering all you need to know about NLP. Read more Stay up to date on the latest news, courses, and AI events Subscribe First Name Last Name Where do you live? Select a country What is your job title? Please select Keep me updated on the latest news, events, and courses Subscribe Courses The Batch Community Careers About\n",
      "\u001b[32m**********************************************************************\u001b[0m\n",
      "\n",
      "--------------------------------------------------------------------------------\n",
      "\u001b[33mSummary Assistant\u001b[0m (to Flow Agent):\n",
      "\n",
      "DeepLearning.AI provides courses and resources for individuals to start or advance their careers in AI. The platform offers AI Python for Beginners course, AI newsletter, blog, forum, and events. Andrew Ng, a prominent figure in the AI field, shares insights and news on AI developments. Users can enroll in AI courses and specializations to build machine learning and AI skills for real-world applications. The platform also offers free resources such as practical guides on AI and machine learning, career development in AI, and books like Machine Learning Yearning and A Complete Guide to Natural Language Processing. Subscribe to stay updated on the latest AI news, events, and courses. Users can join a community of over 7 million people learning AI and explore career opportunities in AI. TERMINATE\n",
      "\n",
      "--------------------------------------------------------------------------------\n"
     ]
    }
   ],
   "source": [
    "company_name = \"Deeplearning AI\"\n",
    "\n",
    "chat_results = flow_agent.initiate_chats(\n",
    "    [\n",
    "        {\n",
    "            \"recipient\": url_assistant,\n",
    "            \"message\": company_name,\n",
    "            \"max_turns\": 2,\n",
    "            \"summary_method\": \"last_msg\",\n",
    "        },\n",
    "        {\n",
    "            \"recipient\": summary_assistant,\n",
    "            \"message\": \"\",\n",
    "            \"max_turns\": 2,\n",
    "            \"summary_method\": \"last_msg\",\n",
    "        },\n",
    "    ]\n",
    ")"
   ]
  },
  {
   "cell_type": "code",
   "execution_count": 10,
   "id": "0040bcd4-ad5d-4d11-be70-29c21d9d9e62",
   "metadata": {},
   "outputs": [
    {
     "data": {
      "text/plain": [
       "'DeepLearning.AI provides courses and resources for individuals to start or advance their careers in AI. The platform offers AI Python for Beginners course, AI newsletter, blog, forum, and events. Andrew Ng, a prominent figure in the AI field, shares insights and news on AI developments. Users can enroll in AI courses and specializations to build machine learning and AI skills for real-world applications. The platform also offers free resources such as practical guides on AI and machine learning, career development in AI, and books like Machine Learning Yearning and A Complete Guide to Natural Language Processing. Subscribe to stay updated on the latest AI news, events, and courses. Users can join a community of over 7 million people learning AI and explore career opportunities in AI. '"
      ]
     },
     "execution_count": 10,
     "metadata": {},
     "output_type": "execute_result"
    }
   ],
   "source": [
    "chat_results[-1].summary"
   ]
  },
  {
   "cell_type": "code",
   "execution_count": null,
   "id": "6b2bca32-030b-416a-a8a0-32b06e9d7337",
   "metadata": {},
   "outputs": [],
   "source": []
  }
 ],
 "metadata": {
  "kernelspec": {
   "display_name": "Python 3 (ipykernel)",
   "language": "python",
   "name": "python3"
  },
  "language_info": {
   "codemirror_mode": {
    "name": "ipython",
    "version": 3
   },
   "file_extension": ".py",
   "mimetype": "text/x-python",
   "name": "python",
   "nbconvert_exporter": "python",
   "pygments_lexer": "ipython3",
   "version": "3.10.12"
  }
 },
 "nbformat": 4,
 "nbformat_minor": 5
}
