{
 "cells": [
  {
   "cell_type": "markdown",
   "id": "efbc44f0-0ad9-428e-879a-d858e45f729c",
   "metadata": {},
   "source": [
    "## CrewAI\n",
    "\n",
    "Cutting-edge framework for orchestrating role-playing, autonomous AI agents. By fostering collaborative intelligence, CrewAI empowers agents to work together seamlessly, tackling complex tasks.\n",
    "\n",
    "- Role-Based Agent Design: Customize agents with specific roles, goals, and tools.\n",
    "- Autonomous Inter-Agent Delegation: Agents can autonomously delegate tasks and inquire amongst themselves, enhancing problem-solving efficiency.\n",
    "- Flexible Task Management: Define tasks with customizable tools and assign them to agents dynamically.\n",
    "- Processes Driven: Currently only supports sequential task execution and hierarchical processes, but more complex processes like consensual and autonomous are being worked on.\n",
    "- Save output as file: Save the output of individual tasks as a file, so you can use it later.\n",
    "- Parse output as Pydantic or Json: Parse the output of individual tasks as a Pydantic model or as a Json if you want to.\n",
    "- Works with Open Source Models: Run your crew using Open AI or open source models refer to the Connect crewAI to LLMs page for details on configuring your agents connections to models, even ones running locally!"
   ]
  },
  {
   "cell_type": "markdown",
   "id": "e4ffac8b-ab2d-413d-9dc3-0f3c27918e3d",
   "metadata": {},
   "source": [
    "#### News Search and Summarize\n",
    "\n",
    "Let us build an agentic system that searches for the latest news and summarizes the important points for us.\n",
    "\n",
    "Packages needed:\n",
    "* crewai\n",
    "* crewai[tools]\n",
    "* duckduckgo-search\n",
    "* openai"
   ]
  },
  {
   "cell_type": "code",
   "execution_count": 1,
   "id": "98545453-2452-4483-a00c-4c0d920a54f5",
   "metadata": {},
   "outputs": [
    {
     "data": {
      "text/plain": [
       "True"
      ]
     },
     "execution_count": 1,
     "metadata": {},
     "output_type": "execute_result"
    }
   ],
   "source": [
    "import os\n",
    "from crewai import Agent\n",
    "from crewai import Task\n",
    "from crewai import Crew, Process\n",
    "from crewai_tools import BaseTool\n",
    "from duckduckgo_search import DDGS\n",
    "\n",
    "from dotenv import load_dotenv\n",
    "\n",
    "load_dotenv()\n"
   ]
  },
  {
   "cell_type": "code",
   "execution_count": 2,
   "id": "5dbe6f02-9c12-4bbe-827a-b23303e59358",
   "metadata": {},
   "outputs": [],
   "source": [
    "os.environ[\"OPENAI_MODEL_NAME\"] = \"gpt-3.5-turbo\""
   ]
  },
  {
   "cell_type": "markdown",
   "id": "222d3f6b-a855-46eb-a6fa-b0dbf4cffee4",
   "metadata": {},
   "source": [
    "##### Custom News Search Tool\n",
    "\n",
    "We need to get the latest news on our topic of interest. So, let us create a 'News Search Tool' for that. A tool generally helps with a specific capability like web scraping, searching the internet, file reading etc. crewAI itself has a lot of inbuilt tools, including a search tool using Serper.\n",
    "\n",
    "Instead of using the Serper tool, which requires an API key we will make use of DuckDuckGo search. So, let us create a custom tool for the same."
   ]
  },
  {
   "cell_type": "code",
   "execution_count": 3,
   "id": "f58dec50-a14b-4d22-beca-664497de8525",
   "metadata": {},
   "outputs": [],
   "source": [
    "class NewsSearchTool(BaseTool):\n",
    "    name: str = \"Latest News Search tool\"\n",
    "    description: str = \"News search tool that searches the latest news on the given topic from internet and provides the results.\"\n",
    "\n",
    "    def _run(self, topic: str) -> str:\n",
    "        # Using the duckduckgo python module\n",
    "        ddgs = DDGS()\n",
    "        # Fetching the latest news from last 1 day on a given topic\n",
    "        results = ddgs.news(keywords=topic, timelimit=\"d\", max_results=20)\n",
    "        result_string=\"\"\n",
    "        # Combine the news topic and description\n",
    "        for result in results:\n",
    "            result_string += f\"Title: {result['title']} \\n Description: {result['body']}\\n\\n\"\n",
    "        # In case if there are no news\n",
    "        if len(result_string.strip()) < 2:\n",
    "            result_string=\"No news found for the given keyword\"\n",
    "        return result_string.strip()\n",
    "\n",
    "news_search_tool = NewsSearchTool()\n"
   ]
  },
  {
   "cell_type": "markdown",
   "id": "0a76a451-6220-483c-8cc3-2e9c28379721",
   "metadata": {},
   "source": [
    "Now let us create agents for our task. We will create two agents:\n",
    "\n",
    "- **Reasearcher agent:** This LLM agent will use the news search tool to research about a specific topic and provide the results.\n",
    "- **Summarizer agent:** This LLM agent will summarize the news provided by the researcher agent.\n",
    "\n",
    "In crewAI, we can use the Agent to create the agents. We need to provide the role, goal, backstory and tools to the agent."
   ]
  },
  {
   "cell_type": "code",
   "execution_count": 4,
   "id": "5b2c28e7-1297-42b8-9b57-75f5cd21e730",
   "metadata": {},
   "outputs": [],
   "source": [
    "# Creating a researcher agent with memory and verbose mode\n",
    "researcher = Agent(\n",
    "  role='Researcher',\n",
    "  goal='Get the latest news in {topic}',\n",
    "  verbose=True,\n",
    "  memory=True,\n",
    "  backstory=(\n",
    "      \"As a knowledge enthusiast, you always look for new happenings on a given topic \"\n",
    "      \"and share the knowledge with broader community.\"\n",
    "  ),\n",
    "  tools=[news_search_tool],\n",
    ")\n"
   ]
  },
  {
   "cell_type": "code",
   "execution_count": 5,
   "id": "c7517038-94a9-445b-baaa-a7bf8fd1482f",
   "metadata": {},
   "outputs": [],
   "source": [
    "# Creating a summarizer agent with custom tools and delegation capability\n",
    "summarizer = Agent(\n",
    "  role='Summarizer',\n",
    "  goal='Summarize the latest news in {topic}',\n",
    "  verbose=True,\n",
    "  memory=True,\n",
    "  backstory=(\n",
    "    \"With a flair for simplifying complex topics, you \"\n",
    "    \"remove redundant information and summarize the \"\n",
    "    \"discoveries in an accessible manner.\"\n",
    "  ),\n",
    "  allow_delegation=False\n",
    ")\n"
   ]
  },
  {
   "cell_type": "markdown",
   "id": "7451bc32-bec2-4af0-9395-3f13e6a11eae",
   "metadata": {},
   "source": [
    "Now we need to specify the tasks that each of these agents need to perform. We will have two tasks\n",
    "\n",
    "- Research Task: This task uses the news search tool to get the latest news.\n",
    "- Summarize Task: This task summarizes the news into 2 or 3 bullet points."
   ]
  },
  {
   "cell_type": "code",
   "execution_count": 6,
   "id": "d8f2cc05-7035-47b7-8ca8-8d11bca5b889",
   "metadata": {},
   "outputs": [],
   "source": [
    "# Research task\n",
    "research_task = Task(\n",
    "    description=(\n",
    "    \"Get the latest news in {topic}.\"\n",
    "    ),\n",
    "    expected_output='Points covering the latest news on {topic}.',\n",
    "    tools=[news_search_tool],\n",
    "    agent=researcher,\n",
    ")\n",
    "\n",
    "# Summarizer task \n",
    "summarize_task = Task(\n",
    "    description=(\n",
    "      \"Given all the news about the {topic}, summarize them to 2 or 3 bullet points.\"\n",
    "      \"Discard the news which do not have central focus on {topic}.\"\n",
    "      \"If no news is relevant, return that no news found for the {topic}\"\n",
    "    ),\n",
    "    expected_output=(\n",
    "    \"2 or 3 summarized bullet points, each one focussing on one specific news \"\n",
    "    \"about the {topic}. If no news found, return no news found\"\n",
    "    ),\n",
    "    agent=summarizer,\n",
    "    output_file='news_summary.md',  # Example of output customization\n",
    ")\n"
   ]
  },
  {
   "cell_type": "markdown",
   "id": "6a32969b-d4a3-47a7-9a7d-2b1cb79f8681",
   "metadata": {},
   "source": [
    "Now let us form the crew (agentic system) using the created agents and tasks, and start the process."
   ]
  },
  {
   "cell_type": "code",
   "execution_count": 7,
   "id": "91c64468-2c9d-4901-a985-a0845d5842af",
   "metadata": {},
   "outputs": [],
   "source": [
    "# Forming the tech-focused crew with some enhanced configurations\n",
    "crew = Crew(\n",
    "  agents=[researcher, summarizer],\n",
    "  tasks=[research_task, summarize_task],\n",
    "  process=Process.sequential,  # Optional: Sequential task execution is default\n",
    ")"
   ]
  },
  {
   "cell_type": "code",
   "execution_count": 8,
   "id": "47225f8a-0107-4d25-acbe-286d10cf6cd0",
   "metadata": {},
   "outputs": [
    {
     "name": "stdout",
     "output_type": "stream",
     "text": [
      "\n",
      "\n",
      "\u001b[1m> Entering new CrewAgentExecutor chain...\u001b[0m\n",
      "\u001b[32;1m\u001b[1;3mI need to use the Latest News Search tool to gather the latest news on HDFC Bank.\n",
      "\n",
      "Action:\n",
      "Latest News Search tool\n",
      "\n",
      "Action Input:\n",
      "{\"topic\": \"HDFC Bank\"}\n",
      "\u001b[0m\u001b[95m \n",
      "\n",
      "Title: HDFC Bank top executives highest paid bankers in FY24, ICICI brass next \n",
      " Description: Sashidhar Jagdishan, managing director (MD) and chief executive officer (CEO) of HDFC Bank, drew a remuneration of Rs 10.77 crore in FY24, according to the lender's annual report. Kaizad Bharucha, deputy MD at HDFC Bank, drew a remuneration of Rs 11.12 crore.\n",
      "\n",
      "Title: HDFC Bank Share Price Live Updates: HDFC Bank Sees Slight Increase in Price, Stable 3-Year Returns Amid Market Volatility \n",
      " Description: Join us on the HDFC Bank Stock Liveblog, your hub for real-time updates and comprehensive analysis on a prominent stock. Stay in the know with the latest information about HDFC Bank, including: Last traded price 1656.\n",
      "\n",
      "Title: Alert for HDFC Bank Customers; These Services to be Down, Check Maintenance Schedule \n",
      " Description: HDFC Bank routinely schedules maintenance for its digital platforms to enhance service and system performance.\n",
      "\n",
      "Title: Indian banks need to quell a looming threat as savers flock to stocks \n",
      " Description: Indian banks reported a brief surge in deposit growth over credit offtake as of mid-July 2024. Despite this, banks are facing a growing challenge as urban savers increasingly opt for higher-yield investments like mutual funds and stocks.\n",
      "\n",
      "Title: HDFC Bank Credit Card Users Will Pay Extra 1% For Using Cred, Paytm For These Transactions \n",
      " Description: New series of changes are around the corner for India's largest bank by market capitalization, HDFC Bank. Starting August 1, 2024, all the rental transactions processed through third-party payment apps such as PayTM,\n",
      "\n",
      "Title: Nifty, Sensex Trade Near 1% High Led By RIL, HDFC Bank, ICICI Bank: Midday Market Update. \n",
      " Description: At 12:47 p.m., the Nifty was trading 0.98% higher at 24,353.60, and the Sensex gained 0.99% to trade at 79,670.78.\n",
      "\n",
      "Title: HDFC Bank UPI downtime: Mobile banking app, GPay, WhatsApp Pay, Paytm, others to be unavailable for 3 hrs; check details \n",
      " Description: HDFC Bank has announced scheduled maintenance for its UPI services on Saturday, owing to which the lender's services through its mobile banking app, GPay, Paytm, WhatsApp Pay and others would remain unavailable for three hours on August 10.\n",
      "\n",
      "Title: Chandan Taparia's recommendations: How to trade Alkem Lab, HDFC Bank, ABB shares on August 9? \n",
      " Description: Chandan Taparia has recommended three stocks to buy tomorrow, August 9. According to him, these stocks - Alkem Lab, HDFC Bank, ABB - are technically placed to see a decent upmove.\n",
      "\n",
      "Title: HDFC Bank UPI services to be down tomorrow. Details here \n",
      " Description: The downtime will affect transactions through its mobile banking app, as well as third-party platforms like GPay, Paytm, and WhatsApp Pay.\n",
      "\n",
      "Title: Changes To HDFC Bank Rules Starting September 1st, Get The Details | Paisa Live \n",
      " Description: If you have an account with HDFC Bank, be aware that credit card rules are changing from September 1. While the bank already updated several credit card rules on August 1, further changes are now being implemented regarding Utility Transactions and Education Payments.\n",
      "\n",
      "Title: HDFC Bank rises Thursday, outperforms market \n",
      " Description: Shares of HDFC Bank Ltd. 500180 advanced 1.06% to 1,642.10 Indian rupees Thursday, on what proved to be an all-around poor trading session for the stock market, with the BSE SENSEX Index 1 falling 0.73% to 78,\n",
      "\n",
      "Title: Indian valuations highly elevated; stocks and sectors that may offer some value even now \n",
      " Description: On a YTD basis, Nifty has climbed over 12 per cent, while the gains in the broader markets have been even steep at 24 per cent for the Nifty Midcap 100.\n",
      "\n",
      "Title: Bank Nifty Share Price Live Updates: Bank Nifty is trading at ₹50107.55 \n",
      " Description: Bank Nifty was trading at 50156.7 (0.08%). Today Bank Nifty has been trading in the range of 50440.75 to 49829.6.\n",
      "\n",
      "Title: HDFC Bank UPI downtime: Gpay, WhatsApp Pay, PayTM, HDFC Bank app will not be available on this day \n",
      " Description: HDFC Bank is undergoing an essential system maintenance due to which UPI services will not be available for three hours on August 10, 2024. Here is a look at the timings of the scheduled UPI downtime and the services you will not be able to use.\n",
      "\n",
      "Title: Top Gainers and Losers today on 8 August, 2024: HDFC Life Insurance Company, Tata Motors, LTI Mindtree, Grasim Industries among most active stocks; Check full list here \n",
      " Description: The Sensex lost 581.79 points, or -0.73, to settle at 79468.01, while the Nifty lost 180.5 points, or -0.74, to close at 24297.5.\n",
      "\n",
      "Title: Market Ends Strong, Nifty Surges Past 24,350 \n",
      " Description: All sectoral indices ended in the green, with auto, capital goods, IT, power, realty, PSU Bank, and media sectors rising between 1-2%.\n",
      "\n",
      "Title: Taking Stock: Market bounces back; Sensex rises 820 pts, Nifty above 24,350 \n",
      " Description: Eicher Motors, ONGC, Tech Mahindra, Tata Motors and Shriram Finance were among the top gainers on the Nifty, while losers were BPCL, HDFC Life, Kotak Mahindra Bank, Divi's Labs and Sun Pharma.\n",
      "\n",
      "Title: HDFC Bank-HDFC Merger News \n",
      " Description: Read stories listed under on HDFC-BANK-HDFC-MERGER-NEWS\n",
      "\n",
      "Title: Trading Plan: Will Nifty 50 reclaim 24,400, Bank Nifty climb above 50,500? \n",
      " Description: A decisive close above 24,400 level could drive Nifty 50 towards 24,700, which marks the upper end of the bearish gap created on August 5. On the other hand, 24,000 is expected to play a crucial role as breaking below this level could drag it down to the 23,\n",
      "\n",
      "Title: Indian shares log losses after central bank's rate pause, hawkish comments \n",
      " Description: The benchmarks fell about 0.3% ahead of the RBI's meeting. The losses steepened to 0.6% right after the decision, before markets briefly erased them by noon. Profit booking, however, set in soon after, with the Nifty and Sensex closing near session lows.\n",
      "\u001b[00m\n",
      "\u001b[32;1m\u001b[1;3mFinal Answer: \n",
      "Title: HDFC Bank top executives highest paid bankers in FY24, ICICI brass next \n",
      " Description: Sashidhar Jagdishan, managing director (MD) and chief executive officer (CEO) of HDFC Bank, drew a remuneration of Rs 10.77 crore in FY24, according to the lender's annual report. Kaizad Bharucha, deputy MD at HDFC Bank, drew a remuneration of Rs 11.12 crore.\n",
      "\n",
      "Title: HDFC Bank Share Price Live Updates: HDFC Bank Sees Slight Increase in Price, Stable 3-Year Returns Amid Market Volatility \n",
      " Description: Join us on the HDFC Bank Stock Liveblog, your hub for real-time updates and comprehensive analysis on a prominent stock. Stay in the know with the latest information about HDFC Bank, including: Last traded price 1656.\n",
      "\n",
      "Title: Alert for HDFC Bank Customers; These Services to be Down, Check Maintenance Schedule \n",
      " Description: HDFC Bank routinely schedules maintenance for its digital platforms to enhance service and system performance.\n",
      "\n",
      "Title: Indian banks need to quell a looming threat as savers flock to stocks \n",
      " Description: Indian banks reported a brief surge in deposit growth over credit offtake as of mid-July 2024. Despite this, banks are facing a growing challenge as urban savers increasingly opt for higher-yield investments like mutual funds and stocks.\n",
      "\n",
      "Title: HDFC Bank Credit Card Users Will Pay Extra 1% For Using Cred, Paytm For These Transactions \n",
      " Description: New series of changes are around the corner for India's largest bank by market capitalization, HDFC Bank. Starting August 1, 2024, all the rental transactions processed through third-party payment apps such as PayTM,\n",
      "\n",
      "Title: Nifty, Sensex Trade Near 1% High Led By RIL, HDFC Bank, ICICI Bank: Midday Market Update. \n",
      " Description: At 12:47 p.m., the Nifty was trading 0.98% higher at 24,353.60, and the Sensex gained 0.99% to trade at 79,670.78.\n",
      "\n",
      "Title: HDFC Bank UPI downtime: Mobile banking app, GPay, WhatsApp Pay, Paytm, others to be unavailable for 3 hrs; check details \n",
      " Description: HDFC Bank has announced scheduled maintenance for its UPI services on Saturday, owing to which the lender's services through its mobile banking app, GPay, Paytm, WhatsApp Pay and others would remain unavailable for three hours on August 10.\n",
      "\n",
      "Title: Chandan Taparia's recommendations: How to trade Alkem Lab, HDFC Bank, ABB shares on August 9? \n",
      " Description: Chandan Taparia has recommended three stocks to buy tomorrow, August 9. According to him, these stocks - Alkem Lab, HDFC Bank, ABB - are technically placed to see a decent upmove.\n",
      "\n",
      "Title: HDFC Bank UPI services to be down tomorrow. Details here \n",
      " Description: The downtime will affect transactions through its mobile banking app, as well as third-party platforms like GPay, Paytm, and WhatsApp Pay.\n",
      "\n",
      "Title: Changes To HDFC Bank Rules Starting September 1st, Get The Details | Paisa Live \n",
      " Description: If you have an account with HDFC Bank, be aware that credit card rules are changing from September 1. While the bank already updated several credit card rules on August 1, further changes are now being implemented regarding Utility Transactions and Education Payments.\n",
      "\n",
      "Title: HDFC Bank rises Thursday, outperforms market \n",
      " Description: Shares of HDFC Bank Ltd. 500180 advanced 1.06% to 1,642.10 Indian rupees Thursday, on what proved to be an all-around poor trading session for the stock market, with the BSE SENSEX Index 1 falling 0.73% to 78,\n",
      "\n",
      "Title: Indian valuations highly elevated; stocks and sectors that may offer some value even now \n",
      " Description: On a YTD basis, Nifty has climbed over 12 per cent, while the gains in the broader markets have been even steep at 24 per cent for the Nifty Midcap 100.\n",
      "\n",
      "Title: Bank Nifty Share Price Live Updates: Bank Nifty is trading at ₹50107.55 \n",
      " Description: Bank Nifty was trading at 50156.7 (0.08%). Today Bank Nifty has been trading in the range of 50440.75 to 49829.6.\n",
      "\n",
      "Title: HDFC Bank UPI downtime: Gpay, WhatsApp Pay, PayTM, HDFC Bank app will not be available on this day \n",
      " Description: HDFC Bank is undergoing an essential system maintenance due to which UPI services will not be available for three hours on August 10, 2024. Here is a look at the timings of the scheduled UPI downtime and the services you will not be able to use.\n",
      "\n",
      "Title: Top Gainers and Losers today on 8 August, 2024: HDFC Life Insurance Company, Tata Motors, LTI Mindtree, Grasim Industries among most active stocks; Check full list here \n",
      " Description: The Sensex lost 581.79 points, or -0.73, to settle at 79468.01, while the Nifty lost 180.5 points, or -0.74, to close at 24297.5.\n",
      "\n",
      "Title: Market Ends Strong, Nifty Surges Past 24,350 \n",
      " Description: All sectoral indices ended in the green, with auto, capital goods, IT, power, realty, PSU Bank, and media sectors rising between 1-2%.\n",
      "\n",
      "Title: Taking Stock: Market bounces back; Sensex rises 820 pts, Nifty above 24,350 \n",
      " Description: Eicher Motors, ONGC, Tech Mahindra, Tata Motors and Shriram Finance were among the top gainers on the Nifty, while losers were BPCL, HDFC Life, Kotak Mahindra Bank, Divi's Labs and Sun Pharma.\n",
      "\n",
      "Title: HDFC Bank-HDFC Merger News \n",
      " Description: Read stories listed under on HDFC-BANK-HDFC-MERGER-NEWS\n",
      "\n",
      "Title: Trading Plan: Will Nifty 50 reclaim 24,400, Bank Nifty climb above 50,500? \n",
      " Description: A decisive close above 24,400 level could drive Nifty 50 towards 24,700, which marks the upper end of the bearish gap created on August 5. On the other hand, 24,000 is expected to play a crucial role as breaking below this level could drag it down to the 23,\n",
      "\n",
      "Title: Indian shares log losses after central bank's rate pause, hawkish comments \n",
      " Description: The benchmarks fell about 0.3% ahead of the RBI's meeting. The losses steepened to 0.6% right after the decision, before markets briefly erased them by noon. Profit booking, however, set in soon after, with the Nifty and Sensex closing near session lows.\u001b[0m\n",
      "\n",
      "\u001b[1m> Finished chain.\u001b[0m\n",
      "\n",
      "\n",
      "\u001b[1m> Entering new CrewAgentExecutor chain...\u001b[0m\n",
      "\u001b[32;1m\u001b[1;3mI now can give a great answer\n",
      "\n",
      "Final Answer:\n",
      "- HDFC Bank's top executives, including the MD and CEO, had the highest remuneration in FY24.\n",
      "- HDFC Bank's share price saw a slight increase and stable 3-year returns amid market volatility.\n",
      "- HDFC Bank customers were alerted about scheduled maintenance for digital platforms.\u001b[0m\n",
      "\n",
      "\u001b[1m> Finished chain.\u001b[0m\n",
      "- HDFC Bank's top executives, including the MD and CEO, had the highest remuneration in FY24.\n",
      "- HDFC Bank's share price saw a slight increase and stable 3-year returns amid market volatility.\n",
      "- HDFC Bank customers were alerted about scheduled maintenance for digital platforms.\n"
     ]
    }
   ],
   "source": [
    "result = crew.kickoff(inputs={'topic': 'HDFC Bank'})\n",
    "print(result)"
   ]
  },
  {
   "cell_type": "code",
   "execution_count": 9,
   "id": "ac54619d-9efe-49bd-b2a9-2fc64910b9e6",
   "metadata": {},
   "outputs": [
    {
     "name": "stdout",
     "output_type": "stream",
     "text": [
      "- HDFC Bank's top executives, including the MD and CEO, had the highest remuneration in FY24.\n",
      "- HDFC Bank's share price saw a slight increase and stable 3-year returns amid market volatility.\n",
      "- HDFC Bank customers were alerted about scheduled maintenance for digital platforms.\n"
     ]
    }
   ],
   "source": [
    "print(result)"
   ]
  },
  {
   "cell_type": "code",
   "execution_count": null,
   "id": "cbb8e629-bcd8-401f-9fc8-132c9e944b39",
   "metadata": {},
   "outputs": [],
   "source": []
  }
 ],
 "metadata": {
  "kernelspec": {
   "display_name": "Python 3 (ipykernel)",
   "language": "python",
   "name": "python3"
  },
  "language_info": {
   "codemirror_mode": {
    "name": "ipython",
    "version": 3
   },
   "file_extension": ".py",
   "mimetype": "text/x-python",
   "name": "python",
   "nbconvert_exporter": "python",
   "pygments_lexer": "ipython3",
   "version": "3.10.12"
  }
 },
 "nbformat": 4,
 "nbformat_minor": 5
}
