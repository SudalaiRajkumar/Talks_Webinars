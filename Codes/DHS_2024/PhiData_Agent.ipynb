{
 "cells": [
  {
   "cell_type": "markdown",
   "id": "01b4d623-7989-439e-b694-d8fe52cd0dc7",
   "metadata": {},
   "source": [
    "## PhiData\n",
    "\n",
    "Phidata is a framework for building Autonomous Assistants (aka Agents) that have long-term memory, contextual knowledge and the ability to take actions using function calling.\n",
    "\n",
    "Use phidata to turn any LLM into an AI Assistant that can:\n",
    "\n",
    "- Search the web using DuckDuckGo, Google etc.\n",
    "- Analyze data using SQL, DuckDb, etc.\n",
    "- Conduct research and generate reports.\n",
    "- Answer questions from PDFs, APIs, etc.\n",
    "- Write scripts for movies, books, etc.\n",
    "- Summarize articles, videos, etc.\n",
    "- Perform tasks like sending emails, querying databases, etc."
   ]
  },
  {
   "cell_type": "markdown",
   "id": "0a423e45-65c6-4009-8c30-c7453dbb1a0d",
   "metadata": {},
   "source": [
    "#### Yahoo Finance Assistant\n",
    "\n",
    "In this section, we will see how to build a Yahoo Finance assistant using PhiData"
   ]
  },
  {
   "cell_type": "code",
   "execution_count": 1,
   "id": "5f2ae367-ca02-4d72-bdb1-fcdbebfafb80",
   "metadata": {},
   "outputs": [
    {
     "data": {
      "text/plain": [
       "True"
      ]
     },
     "execution_count": 1,
     "metadata": {},
     "output_type": "execute_result"
    }
   ],
   "source": [
    "from phi.assistant import Assistant\n",
    "from phi.llm.openai import OpenAIChat\n",
    "from phi.tools.yfinance import YFinanceTools\n",
    "from dotenv import load_dotenv\n",
    "\n",
    "load_dotenv()"
   ]
  },
  {
   "cell_type": "code",
   "execution_count": 2,
   "id": "7b69d8f3-27ed-42be-b3b8-a40e740eca6e",
   "metadata": {},
   "outputs": [],
   "source": [
    "assistant = Assistant(\n",
    "    name=\"Finance Assistant\",\n",
    "    description=\"You are an investment analyst that researches stock prices, analyst recommendations, and stock fundamentals.\",\n",
    "    llm=OpenAIChat(model=\"gpt-4o-mini\"),\n",
    "    #tools=[YFinanceTools(stock_price=True, analyst_recommendations=True, company_info=True, company_news=True)],\n",
    "    tools=[YFinanceTools(stock_price=True, analyst_recommendations=True)],\n",
    "    show_tool_calls=True,\n",
    "    instructions=[\"Format your response using markdown and use tables to display data where possible.\"],\n",
    ")"
   ]
  },
  {
   "cell_type": "code",
   "execution_count": 3,
   "id": "42e517d9-2ebc-469e-805e-84ddccdfe42b",
   "metadata": {},
   "outputs": [
    {
     "data": {
      "application/vnd.jupyter.widget-view+json": {
       "model_id": "15326ac1970442dda98f45b72c435a83",
       "version_major": 2,
       "version_minor": 0
      },
      "text/plain": [
       "Output()"
      ]
     },
     "metadata": {},
     "output_type": "display_data"
    },
    {
     "data": {
      "text/html": [
       "<pre style=\"white-space:pre;overflow-x:auto;line-height:normal;font-family:Menlo,'DejaVu Sans Mono',consolas,'Courier New',monospace\"></pre>\n"
      ],
      "text/plain": []
     },
     "metadata": {},
     "output_type": "display_data"
    }
   ],
   "source": [
    "assistant.print_response(\"Give me the analyst recommendations on NVDA\")"
   ]
  },
  {
   "cell_type": "code",
   "execution_count": 4,
   "id": "a8b8c798-936c-4452-a363-987109998cfc",
   "metadata": {},
   "outputs": [],
   "source": [
    "# assistant.print_response(\"Give me the latest price of NVDA\")"
   ]
  }
 ],
 "metadata": {
  "kernelspec": {
   "display_name": "Python 3 (ipykernel)",
   "language": "python",
   "name": "python3"
  },
  "language_info": {
   "codemirror_mode": {
    "name": "ipython",
    "version": 3
   },
   "file_extension": ".py",
   "mimetype": "text/x-python",
   "name": "python",
   "nbconvert_exporter": "python",
   "pygments_lexer": "ipython3",
   "version": "3.10.12"
  }
 },
 "nbformat": 4,
 "nbformat_minor": 5
}
