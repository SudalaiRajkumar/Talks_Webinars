{
 "cells": [
  {
   "cell_type": "markdown",
   "id": "b965bdf2-1841-4486-87b0-59b4d8929d47",
   "metadata": {},
   "source": [
    "### Youtube Video Summarization\n",
    "\n",
    "A simple single agent system that helps in summarizing the youtube videos"
   ]
  },
  {
   "cell_type": "code",
   "execution_count": 1,
   "id": "97dd53cf-37f7-4177-b010-4b32a7be0b85",
   "metadata": {},
   "outputs": [
    {
     "data": {
      "text/plain": [
       "True"
      ]
     },
     "execution_count": 1,
     "metadata": {},
     "output_type": "execute_result"
    }
   ],
   "source": [
    "from phi.assistant import Assistant\n",
    "from phi.llm.openai import OpenAIChat\n",
    "from phi.tools.youtube_tools import YouTubeTools\n",
    "from dotenv import load_dotenv\n",
    "\n",
    "load_dotenv()"
   ]
  },
  {
   "cell_type": "code",
   "execution_count": 2,
   "id": "698a86ac-6189-49ea-bcf4-7bf01188ee76",
   "metadata": {},
   "outputs": [],
   "source": [
    "tools_to_use = [\n",
    "    YouTubeTools(get_video_captions=True, get_video_data=False, languages=[\"en\"])\n",
    "]"
   ]
  },
  {
   "cell_type": "code",
   "execution_count": 3,
   "id": "682a9240-360d-4557-b046-2065ac884836",
   "metadata": {},
   "outputs": [],
   "source": [
    "assistant = Assistant(\n",
    "    name=\"Video Summarization Assistant\",\n",
    "    description=\"You are an assistant who helps in summarizing the captions of the video\",\n",
    "    llm=OpenAIChat(model=\"gpt-4o-mini\"),\n",
    "    tools=tools_to_use,\n",
    "    show_tool_calls=True,\n",
    "    instructions=[\"Format your response using markdown where possible.\"],\n",
    ")"
   ]
  },
  {
   "cell_type": "code",
   "execution_count": 4,
   "id": "84d5f969-9d92-4466-8226-73caae2b13e1",
   "metadata": {},
   "outputs": [
    {
     "data": {
      "application/vnd.jupyter.widget-view+json": {
       "model_id": "e36f1e29702147418279d60dfe14eea5",
       "version_major": 2,
       "version_minor": 0
      },
      "text/plain": [
       "Output()"
      ]
     },
     "metadata": {},
     "output_type": "display_data"
    },
    {
     "data": {
      "text/html": [
       "<pre style=\"white-space:pre;overflow-x:auto;line-height:normal;font-family:Menlo,'DejaVu Sans Mono',consolas,'Courier New',monospace\"></pre>\n"
      ],
      "text/plain": []
     },
     "metadata": {},
     "output_type": "display_data"
    }
   ],
   "source": [
    "# The future of AI Agents\n",
    "url = \"https://youtu.be/pBBe1pk8hf4\"\n",
    "\n",
    "assistant.print_response(f\"Summarize the video present in {url}\")"
   ]
  },
  {
   "cell_type": "code",
   "execution_count": null,
   "id": "b4528cbe-a265-42c5-b1d8-603e2bd3bb29",
   "metadata": {},
   "outputs": [],
   "source": []
  }
 ],
 "metadata": {
  "kernelspec": {
   "display_name": "Python 3 (ipykernel)",
   "language": "python",
   "name": "python3"
  },
  "language_info": {
   "codemirror_mode": {
    "name": "ipython",
    "version": 3
   },
   "file_extension": ".py",
   "mimetype": "text/x-python",
   "name": "python",
   "nbconvert_exporter": "python",
   "pygments_lexer": "ipython3",
   "version": "3.10.12"
  }
 },
 "nbformat": 4,
 "nbformat_minor": 5
}
