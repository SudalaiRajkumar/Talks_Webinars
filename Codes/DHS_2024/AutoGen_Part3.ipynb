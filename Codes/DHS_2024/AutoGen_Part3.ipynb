{
 "cells": [
  {
   "cell_type": "markdown",
   "id": "8c5330b1-ef69-4400-9207-3ec0cad333fd",
   "metadata": {},
   "source": [
    "### Group chat system\n",
    "\n",
    "![Agent](https://microsoft.github.io/autogen/assets/images/autogen_agents-b80434bcb15d46da0c6cbeed28115f38.png)\n",
    "\n",
    "An agentic flow that enables the group chat between different coaches in cricket - Batting, Bowling and Fielding."
   ]
  },
  {
   "cell_type": "code",
   "execution_count": 1,
   "id": "88e4f45c-9e76-4bf4-9f4a-39af63cd73fb",
   "metadata": {},
   "outputs": [
    {
     "data": {
      "text/plain": [
       "True"
      ]
     },
     "execution_count": 1,
     "metadata": {},
     "output_type": "execute_result"
    }
   ],
   "source": [
    "import os\n",
    "from autogen import ConversableAgent, AssistantAgent, UserProxyAgent\n",
    "from autogen import GroupChat, GroupChatManager\n",
    "from autogen.coding import LocalCommandLineCodeExecutor\n",
    "\n",
    "from dotenv import load_dotenv\n",
    "\n",
    "load_dotenv()"
   ]
  },
  {
   "cell_type": "code",
   "execution_count": 2,
   "id": "9dc30a00-94ea-4201-8c10-96e61cf64292",
   "metadata": {},
   "outputs": [],
   "source": [
    "llm_config = {\n",
    "    \"config_list\": [{\"model\": \"gpt-4o-mini\", \"api_key\": os.environ[\"OPENAI_API_KEY\"]}]\n",
    "}"
   ]
  },
  {
   "cell_type": "code",
   "execution_count": 3,
   "id": "a6845695-8102-4021-81db-91f696f6d10d",
   "metadata": {},
   "outputs": [],
   "source": [
    "user_proxy = UserProxyAgent(\n",
    "    name=\"User_proxy\",\n",
    "    system_message=\"A human admin who asks the question to the coaches\",\n",
    "    human_input_mode=\"ALWAYS\",\n",
    ")\n",
    "batting_coach = AssistantAgent(\n",
    "    name=\"Batting_Coach\",\n",
    "    system_message=\"Provides input on improving the batting performance in 1 sentence\",\n",
    "    llm_config=llm_config,\n",
    ")\n",
    "bowling_coach = AssistantAgent(\n",
    "    name=\"Bowling_Coach\",\n",
    "    system_message=\"Provides input on bowling improvements in 1 sentence\",\n",
    "    llm_config=llm_config,\n",
    ")\n",
    "fielding_coach = AssistantAgent(\n",
    "    name=\"Fielding_Coach\",\n",
    "    system_message=\"Provides input on fielding improvements in 1 sentence\",\n",
    "    llm_config=llm_config,\n",
    ")\n"
   ]
  },
  {
   "cell_type": "code",
   "execution_count": 4,
   "id": "44038675-186d-414d-8d2e-cec0317ae600",
   "metadata": {},
   "outputs": [],
   "source": [
    "groupchat = GroupChat(agents=[batting_coach, bowling_coach, fielding_coach], messages=[], max_round=5, speaker_selection_method=\"auto\")\n",
    "head_coach = GroupChatManager(groupchat=groupchat, llm_config=llm_config)"
   ]
  },
  {
   "cell_type": "code",
   "execution_count": 5,
   "id": "2adade93-dbd3-4c82-8746-8d68f3641b75",
   "metadata": {},
   "outputs": [
    {
     "name": "stdout",
     "output_type": "stream",
     "text": [
      "\u001b[33mUser_proxy\u001b[0m (to chat_manager):\n",
      "\n",
      "We have lost the last two matches in cricket. We need to have a clear strategy for the next game.\n",
      "\n",
      "--------------------------------------------------------------------------------\n",
      "\u001b[32m\n",
      "Next speaker: Batting_Coach\n",
      "\u001b[0m\n",
      "\u001b[33mBatting_Coach\u001b[0m (to chat_manager):\n",
      "\n",
      "Focus on refining your batting techniques, enhancing communication between partners, and developing specific strategies for facing key bowlers to boost confidence and performance in the next match.\n",
      "\n",
      "--------------------------------------------------------------------------------\n",
      "\u001b[32m\n",
      "Next speaker: Bowling_Coach\n",
      "\u001b[0m\n",
      "\u001b[33mBowling_Coach\u001b[0m (to chat_manager):\n",
      "\n",
      "Consider analyzing match footage to identify weaknesses in your batting order and implementing targeted drills to address those areas before the next game.\n",
      "\n",
      "--------------------------------------------------------------------------------\n",
      "\u001b[32m\n",
      "Next speaker: Fielding_Coach\n",
      "\u001b[0m\n",
      "\u001b[33mFielding_Coach\u001b[0m (to chat_manager):\n",
      "\n",
      "Implement regular fielding drills to improve reaction times and communication, ensuring every player is confident in their roles and responsibilities during match scenarios.\n",
      "\n",
      "--------------------------------------------------------------------------------\n",
      "\u001b[32m\n",
      "Next speaker: Batting_Coach\n",
      "\u001b[0m\n",
      "\u001b[33mBatting_Coach\u001b[0m (to chat_manager):\n",
      "\n",
      "Incorporate team-building exercises to foster trust and collaboration, which will enhance overall performance while fielding under pressure in the upcoming match.\n",
      "\n",
      "--------------------------------------------------------------------------------\n"
     ]
    }
   ],
   "source": [
    "chat_result = user_proxy.initiate_chat(\n",
    "    head_coach, message=\"We have lost the last two matches in cricket. We need to have a clear strategy for the next game.\"\n",
    ")"
   ]
  },
  {
   "cell_type": "code",
   "execution_count": 7,
   "id": "77fcb7d3-1a9d-47b0-bfc6-255b36e7bf3e",
   "metadata": {},
   "outputs": [
    {
     "data": {
      "text/plain": [
       "[{'content': 'We have lost the last two matches in cricket. We need to have a clear strategy for the next game.',\n",
       "  'role': 'user',\n",
       "  'name': 'User_proxy'},\n",
       " {'content': 'Focus on refining your batting techniques, enhancing communication between partners, and developing specific strategies for facing key bowlers to boost confidence and performance in the next match.',\n",
       "  'role': 'user',\n",
       "  'name': 'Batting_Coach'},\n",
       " {'content': 'Consider analyzing match footage to identify weaknesses in your batting order and implementing targeted drills to address those areas before the next game.',\n",
       "  'role': 'user',\n",
       "  'name': 'Bowling_Coach'},\n",
       " {'content': 'Implement regular fielding drills to improve reaction times and communication, ensuring every player is confident in their roles and responsibilities during match scenarios.',\n",
       "  'role': 'user',\n",
       "  'name': 'Fielding_Coach'},\n",
       " {'content': 'Incorporate team-building exercises to foster trust and collaboration, which will enhance overall performance while fielding under pressure in the upcoming match.',\n",
       "  'role': 'user',\n",
       "  'name': 'Batting_Coach'}]"
      ]
     },
     "execution_count": 7,
     "metadata": {},
     "output_type": "execute_result"
    }
   ],
   "source": [
    "head_coach.chat_messages_for_summary(batting_coach)"
   ]
  },
  {
   "cell_type": "code",
   "execution_count": null,
   "id": "9b2f6e29-2422-4fdb-a163-d019ab8fc470",
   "metadata": {},
   "outputs": [],
   "source": []
  }
 ],
 "metadata": {
  "kernelspec": {
   "display_name": "Python 3 (ipykernel)",
   "language": "python",
   "name": "python3"
  },
  "language_info": {
   "codemirror_mode": {
    "name": "ipython",
    "version": 3
   },
   "file_extension": ".py",
   "mimetype": "text/x-python",
   "name": "python",
   "nbconvert_exporter": "python",
   "pygments_lexer": "ipython3",
   "version": "3.10.12"
  }
 },
 "nbformat": 4,
 "nbformat_minor": 5
}
